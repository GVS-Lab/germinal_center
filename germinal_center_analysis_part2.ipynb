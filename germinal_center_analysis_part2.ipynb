{
 "cells": [
  {
   "cell_type": "markdown",
   "metadata": {},
   "source": [
    "# Germinal center: chromatin based cell type detection: \n",
    "---\n",
    "## Part2: Discrimination\n",
    "\n",
    "\n",
    "Data (from Claudio, IFOM): \n",
    "10 images depicting germinal centers (annotated by hand) stained for Dapi, CD3 and AICDA. \n",
    "\n",
    "Aim: \n",
    "For cells within the germinal center use the nmco features to distinguish the following cell types:\n",
    "\n",
    "1. AID+ dark zone B cells -> dark_b_cells\n",
    "2. CD3+ T cells -> t_cells\n",
    "3. AID- CD3- light zone B cells  -> light_b_cells"
   ]
  },
  {
   "cell_type": "code",
   "execution_count": 1,
   "metadata": {},
   "outputs": [],
   "source": [
    "# import libraries\n",
    "import sys\n",
    "sys.path.append(\"..\")\n",
    "\n",
    "from pathlib import Path\n",
    "from glob import glob\n",
    "import pandas as pd\n",
    "import numpy as np\n",
    "import os\n",
    "from tqdm.notebook import tqdm\n",
    "from sklearn.ensemble import RandomForestClassifier\n",
    "import _pickle as cPickle\n",
    "\n",
    "from src.utils.cell_type_detection import get_postive_cells_batch\n",
    "\n",
    "from src.utils.data_processing import (\n",
    "    clean_data,\n",
    "    remove_correlated_features\n",
    ")\n",
    "\n",
    "from src.utils.data_processing import (\n",
    "    clean_data,\n",
    "    remove_correlated_features\n",
    ")\n",
    "\n",
    "from src.utils.discrimination import (\n",
    "    compute_cv_scores,\n",
    "    plot_cv_conf_mtx,\n",
    "    plot_feature_importance, \n",
    "    find_markers\n",
    ")\n",
    "\n",
    "seed = 1234"
   ]
  },
  {
   "cell_type": "code",
   "execution_count": 2,
   "metadata": {},
   "outputs": [],
   "source": [
    "# read in the data\n",
    "path_to_raw_images = '/media/pathy_s/54fe7289-2a61-4f3a-ac84-eeea3c0d1d2f/ifom_germinal_centers/data/' \n",
    "data_dir = path_to_raw_images + \"consolidated_data/\"\n",
    "\n",
    "nuc_features = pd.read_csv(os.path.join(data_dir, \"nuc_features.csv\"), index_col=0)\n",
    "aicda_levels = pd.read_csv(os.path.join(data_dir, \"aicda_levels.csv\"), index_col=0)\n",
    "cd3_levels = pd.read_csv(os.path.join(data_dir, \"cd3_levels.csv\"), index_col=0)\n",
    "gc_levels = pd.read_csv(os.path.join(data_dir, \"gc_levels.csv\"), index_col=0)"
   ]
  },
  {
   "cell_type": "markdown",
   "metadata": {},
   "source": [
    "## Assign cell types\n"
   ]
  },
  {
   "cell_type": "code",
   "execution_count": 3,
   "metadata": {},
   "outputs": [],
   "source": [
    "# get postive cell ids\n",
    "(_, fovs) = pd.factorize(gc_levels['image'].astype(\"category\"))\n",
    "img_names = fovs.categories\n",
    "\n",
    "aicda_postive_cells = get_postive_cells_batch(aicda_levels, img_names)\n",
    "cd3_postive_cells = get_postive_cells_batch(cd3_levels, img_names)\n",
    "gc_postive_cells = gc_levels[gc_levels['int_mean']>0]['nuc_id'].tolist()\n",
    "\n",
    "nuc_features.loc[:,'aicda_status'] = 'negative'\n",
    "nuc_features.loc[nuc_features['nuc_id'].isin(aicda_postive_cells), 'aicda_status'] ='positive'\n",
    "nuc_features.loc[:,'cd3_status'] = 'negative'\n",
    "nuc_features.loc[nuc_features['nuc_id'].isin(cd3_postive_cells), 'cd3_status'] ='positive'\n",
    "nuc_features.loc[:,'gc_status'] = 'negative'\n",
    "nuc_features.loc[nuc_features['nuc_id'].isin(gc_postive_cells), 'gc_status'] ='positive'\n",
    "\n",
    "double_positive_cells = list(set(cd3_postive_cells) & set(aicda_postive_cells))\n",
    "double_negative_cells = list(set(nuc_features['nuc_id']) - set(aicda_postive_cells).union(set(cd3_postive_cells)))"
   ]
  },
  {
   "cell_type": "code",
   "execution_count": 4,
   "metadata": {},
   "outputs": [
    {
     "name": "stdout",
     "output_type": "stream",
     "text": [
      "Number of cells :57179\n",
      "Number of germinal center (gc) cells :25622\n",
      "Number of acida positive cells :10676\n",
      "Number of cd3 positive cells :21350\n",
      "Number of acida positive cells in the gc :8892\n",
      "Number of cd3 positive cells in the gc :3304\n",
      "Number of cd3 and aicda positive cells :1879\n",
      "Number of cd3 and aicda positive cells in gc :543\n",
      "Number of double negative cells :27032\n",
      "Number of double negative cells in gc :13969\n"
     ]
    }
   ],
   "source": [
    "print ( \"Number of cells :\" + str(len(nuc_features['nuc_id'])))\n",
    "print ( \"Number of germinal center (gc) cells :\" + str(len(gc_postive_cells)))\n",
    "\n",
    "print ( \"Number of acida positive cells :\" + str(len(aicda_postive_cells)))\n",
    "print ( \"Number of cd3 positive cells :\" + str(len(cd3_postive_cells)))\n",
    "\n",
    "print ( \"Number of acida positive cells in the gc :\" + str(len(list(set(aicda_postive_cells) & set(gc_postive_cells)))))\n",
    "print ( \"Number of cd3 positive cells in the gc :\" + str(len(list(set(cd3_postive_cells) & set(gc_postive_cells)))))\n",
    "\n",
    "print ( \"Number of cd3 and aicda positive cells :\" + str(len(list(set(cd3_postive_cells) & set(aicda_postive_cells)))))\n",
    "print ( \"Number of cd3 and aicda positive cells in gc :\" + str(len(list(set(cd3_postive_cells) & set(aicda_postive_cells)  & set(gc_postive_cells)))))\n",
    "\n",
    "print ( \"Number of double negative cells :\" + str(len(double_negative_cells)))\n",
    "print ( \"Number of double negative cells in gc :\" + str(len(list(set(double_negative_cells) & set(gc_postive_cells)))))"
   ]
  },
  {
   "cell_type": "code",
   "execution_count": 5,
   "metadata": {},
   "outputs": [],
   "source": [
    "dark_b_cells = list(set(aicda_postive_cells) - set(double_positive_cells))\n",
    "gc_dark_b_cells = list(set(dark_b_cells) & set(gc_postive_cells))\n",
    "\n",
    "t_cells = list(set(cd3_postive_cells) - set(double_positive_cells))\n",
    "gc_t_cells = list(set(t_cells) & set(gc_postive_cells))\n",
    "\n",
    "light_b_cells = double_negative_cells\n",
    "gc_light_b_cells = list(set(double_negative_cells) & set(gc_postive_cells))\n",
    "\n",
    "nuc_features.loc[:,'stage'] = 'none'\n",
    "nuc_features.loc[nuc_features['nuc_id'].isin(gc_dark_b_cells), 'stage'] = 'dark_b_cells'\n",
    "nuc_features.loc[nuc_features['nuc_id'].isin(gc_t_cells), 'stage'] = 't_cells'\n",
    "nuc_features.loc[nuc_features['nuc_id'].isin(gc_light_b_cells), 'stage'] = 'light_b_cells'"
   ]
  },
  {
   "cell_type": "code",
   "execution_count": 6,
   "metadata": {},
   "outputs": [
    {
     "name": "stdout",
     "output_type": "stream",
     "text": [
      "Number of dark b cells :8797\n",
      "Number of dark b cells in gc:8349\n",
      "Number of t cells :19471\n",
      "Number of t cells in gc:2761\n",
      "Number of light b cells :27032\n",
      "Number of light b cells in gc:13969\n"
     ]
    }
   ],
   "source": [
    "print ( \"Number of dark b cells :\" + str(len(dark_b_cells)))\n",
    "print ( \"Number of dark b cells in gc:\" + str(len(gc_dark_b_cells)))\n",
    "\n",
    "print ( \"Number of t cells :\" + str(len(t_cells)))\n",
    "print ( \"Number of t cells in gc:\" + str(len(gc_t_cells)))\n",
    "\n",
    "print ( \"Number of light b cells :\" + str(len(light_b_cells)))\n",
    "print ( \"Number of light b cells in gc:\" + str(len(gc_light_b_cells)))\n"
   ]
  },
  {
   "cell_type": "code",
   "execution_count": 7,
   "metadata": {},
   "outputs": [],
   "source": [
    "nuc_features.loc[:,'stage'] = 'none'\n",
    "nuc_features.loc[nuc_features['nuc_id'].isin(gc_dark_b_cells), 'stage'] = 'dark_b_cells'\n",
    "nuc_features.loc[nuc_features['nuc_id'].isin(gc_t_cells), 'stage'] = 't_cells'\n",
    "nuc_features.loc[nuc_features['nuc_id'].isin(gc_light_b_cells), 'stage'] = 'light_b_cells'"
   ]
  },
  {
   "cell_type": "code",
   "execution_count": 8,
   "metadata": {},
   "outputs": [],
   "source": [
    "# subsapling cells in the germinal center\n",
    "temp_db_cells = nuc_features.loc[nuc_features['stage'] == \"dark_b_cells\",]\n",
    "temp_t_cells = nuc_features.loc[nuc_features['stage'] == \"t_cells\",]\n",
    "temp_lb_cells = nuc_features.loc[nuc_features['stage'] == \"light_b_cells\",]\n",
    "\n",
    "subsample_size = int(np.floor(0.8 * np.min([temp_db_cells.shape[0], temp_t_cells.shape[0], temp_lb_cells.shape[0]])))\n",
    "temp_db_cells = temp_db_cells.iloc[np.random.choice(len(temp_db_cells), size=subsample_size, replace=False)]\n",
    "temp_t_cells = temp_t_cells.iloc[np.random.choice(len(temp_t_cells), size=subsample_size, replace=False)]\n",
    "temp_lb_cells = temp_lb_cells.iloc[np.random.choice(len(temp_lb_cells), size=subsample_size, replace=False)]\n",
    "\n",
    "nuc_features_gc_cells_subsampled = pd.concat([temp_db_cells, temp_t_cells, temp_lb_cells])\n",
    "del temp_db_cells, temp_t_cells, temp_lb_cells"
   ]
  },
  {
   "cell_type": "code",
   "execution_count": 9,
   "metadata": {},
   "outputs": [],
   "source": [
    "#save dataset\n",
    "nuc_features.to_csv(data_dir+\"/\" +\"nuc_features_with_cell_types.csv\")\n"
   ]
  },
  {
   "cell_type": "markdown",
   "metadata": {},
   "source": [
    "### Cleaning the dataset \n",
    "\n",
    "Next, we will ensure that all metadata columns are non-numeric. Then we remove highly correlated features and incomplete rows"
   ]
  },
  {
   "cell_type": "code",
   "execution_count": 10,
   "metadata": {},
   "outputs": [],
   "source": [
    "# columns to remove\n",
    "meta_columns = [\n",
    "    \"label\",\n",
    "    \"weighted_centroid-0\",\n",
    "    \"weighted_centroid-1\",\n",
    "    \"centroid-0\",\n",
    "    \"centroid-1\",\n",
    "    \"bbox-0\",\n",
    "    \"bbox-1\",\n",
    "    \"bbox-2\",\n",
    "    \"bbox-3\",\n",
    "    \"nuc_id\"\n",
    "    \"image\",\n",
    "    \"orientation\",\n",
    "    \"aicda_status\",\n",
    "    \"cd3_status\",\n",
    "    \"gc_status\"\n",
    "]\n",
    "\n",
    "nuc_meta_columns = set(meta_columns).intersection(nuc_features_gc_cells_subsampled.columns)\n",
    "nuc_features_gc_cells_subsampled.loc[:, nuc_meta_columns] = np.array(nuc_features_gc_cells_subsampled.loc[:, nuc_meta_columns]).astype(\n",
    "    \"str\"\n",
    ")"
   ]
  },
  {
   "cell_type": "code",
   "execution_count": 11,
   "metadata": {},
   "outputs": [
    {
     "name": "stdout",
     "output_type": "stream",
     "text": [
      "Removed 19 constant or features with missing values. Remaining: 178.\n",
      "Removed additional 0 features. Remaining: 178.\n",
      "Removed 0 samples with missing values. Remaining: 6624.\n"
     ]
    }
   ],
   "source": [
    "nuc_features_gc_cells_subsampled.index = nuc_features_gc_cells_subsampled.nuc_id\n",
    "cleaned_nuc_feat = clean_data(nuc_features_gc_cells_subsampled, index_col=\"nuc_id\")"
   ]
  },
  {
   "cell_type": "code",
   "execution_count": 12,
   "metadata": {},
   "outputs": [
    {
     "name": "stdout",
     "output_type": "stream",
     "text": [
      "Removed 117/178 features with a Pearson correlation above 0.8. Remaining: 61\n"
     ]
    }
   ],
   "source": [
    "filtered_nuc_feat = remove_correlated_features(cleaned_nuc_feat, 0.8)"
   ]
  },
  {
   "cell_type": "code",
   "execution_count": 13,
   "metadata": {},
   "outputs": [],
   "source": [
    "sample_labels = nuc_features_gc_cells_subsampled.loc[filtered_nuc_feat.index, \"stage\"]"
   ]
  },
  {
   "cell_type": "code",
   "execution_count": 14,
   "metadata": {},
   "outputs": [
    {
     "data": {
      "text/plain": [
       "(2208, 2208, 2208)"
      ]
     },
     "execution_count": 14,
     "metadata": {},
     "output_type": "execute_result"
    }
   ],
   "source": [
    "# making sure that data is balanced\n",
    "len(sample_labels[sample_labels ==\"dark_b_cells\"]), len(sample_labels[sample_labels ==\"light_b_cells\"]), len(sample_labels[sample_labels ==\"t_cells\"])"
   ]
  },
  {
   "cell_type": "markdown",
   "metadata": {},
   "source": [
    "### Classification \n",
    "\n",
    "Next, we will train a RandomForest classifier to differentiate between the different stages."
   ]
  },
  {
   "cell_type": "code",
   "execution_count": 15,
   "metadata": {},
   "outputs": [],
   "source": [
    "rfc = RandomForestClassifier(\n",
    "    n_estimators=100, n_jobs=10, random_state=seed, class_weight=\"balanced\", verbose=0\n",
    ")\n",
    "n_folds = 3"
   ]
  },
  {
   "cell_type": "code",
   "execution_count": 16,
   "metadata": {},
   "outputs": [],
   "source": [
    "cv_scores = compute_cv_scores(\n",
    "    X=filtered_nuc_feat,\n",
    "    y=sample_labels,\n",
    "    metrics=[\"accuracy\", \"balanced_accuracy\", \"f1_macro\"],\n",
    "    cv=n_folds,\n",
    "    model=rfc,\n",
    ")"
   ]
  },
  {
   "cell_type": "code",
   "execution_count": 17,
   "metadata": {},
   "outputs": [
    {
     "data": {
      "text/html": [
       "<div>\n",
       "<style scoped>\n",
       "    .dataframe tbody tr th:only-of-type {\n",
       "        vertical-align: middle;\n",
       "    }\n",
       "\n",
       "    .dataframe tbody tr th {\n",
       "        vertical-align: top;\n",
       "    }\n",
       "\n",
       "    .dataframe thead th {\n",
       "        text-align: right;\n",
       "    }\n",
       "</style>\n",
       "<table border=\"1\" class=\"dataframe\">\n",
       "  <thead>\n",
       "    <tr style=\"text-align: right;\">\n",
       "      <th></th>\n",
       "      <th>avg</th>\n",
       "      <th>std</th>\n",
       "      <th>min</th>\n",
       "      <th>max</th>\n",
       "    </tr>\n",
       "  </thead>\n",
       "  <tbody>\n",
       "    <tr>\n",
       "      <th>accuracy</th>\n",
       "      <td>0.516002</td>\n",
       "      <td>0.008468</td>\n",
       "      <td>0.507699</td>\n",
       "      <td>0.527627</td>\n",
       "    </tr>\n",
       "    <tr>\n",
       "      <th>balanced_accuracy</th>\n",
       "      <td>0.516002</td>\n",
       "      <td>0.008468</td>\n",
       "      <td>0.507699</td>\n",
       "      <td>0.527627</td>\n",
       "    </tr>\n",
       "    <tr>\n",
       "      <th>f1_macro</th>\n",
       "      <td>0.516118</td>\n",
       "      <td>0.008234</td>\n",
       "      <td>0.508558</td>\n",
       "      <td>0.527568</td>\n",
       "    </tr>\n",
       "  </tbody>\n",
       "</table>\n",
       "</div>"
      ],
      "text/plain": [
       "                        avg       std       min       max\n",
       "accuracy           0.516002  0.008468  0.507699  0.527627\n",
       "balanced_accuracy  0.516002  0.008468  0.507699  0.527627\n",
       "f1_macro           0.516118  0.008234  0.508558  0.527568"
      ]
     },
     "execution_count": 17,
     "metadata": {},
     "output_type": "execute_result"
    }
   ],
   "source": [
    "cv_scores"
   ]
  },
  {
   "cell_type": "code",
   "execution_count": 18,
   "metadata": {},
   "outputs": [
    {
     "data": {
      "image/png": "[encoded data removed]",
      "text/plain": [
       "<Figure size 432x288 with 2 Axes>"
      ]
     },
     "metadata": {
      "needs_background": "light"
     },
     "output_type": "display_data"
    }
   ],
   "source": [
    "plot_cv_conf_mtx(\n",
    "    X=filtered_nuc_feat,\n",
    "    y=sample_labels,\n",
    "    model=rfc,\n",
    "    cv=n_folds,\n",
    "    figsize=[6, 4],\n",
    ")"
   ]
  },
  {
   "cell_type": "markdown",
   "metadata": {},
   "source": [
    "### Feature importance\n",
    "Next we are interested in the features that yield the most discriminative power. To this end, we first look at the top 20 features that got the highest importance as computed by the RFC."
   ]
  },
  {
   "cell_type": "code",
   "execution_count": 19,
   "metadata": {},
   "outputs": [
    {
     "data": {
      "image/png": "[encoded data removed]",
      "text/plain": [
       "<Figure size 576x432 with 1 Axes>"
      ]
     },
     "metadata": {
      "needs_background": "light"
     },
     "output_type": "display_data"
    }
   ],
   "source": [
    "plot_feature_importance(\n",
    "    importance=rfc.feature_importances_,\n",
    "    names=filtered_nuc_feat.columns,\n",
    "    model_type=\"RFC \",\n",
    "    n_features=25\n",
    ")"
   ]
  },
  {
   "cell_type": "markdown",
   "metadata": {},
   "source": [
    "As described earlier, we will additionally run a t-test based marker screen to identify the features that are the most different across the different stages."
   ]
  },
  {
   "cell_type": "code",
   "execution_count": 20,
   "metadata": {},
   "outputs": [
    {
     "name": "stderr",
     "output_type": "stream",
     "text": [
      "Run marker screen: 100%|██████████| 3/3 [00:00<00:00, 11.46it/s]\n"
     ]
    }
   ],
   "source": [
    "marker_screen_results = find_markers(data=filtered_nuc_feat, labels=sample_labels)"
   ]
  },
  {
   "cell_type": "code",
   "execution_count": 21,
   "metadata": {},
   "outputs": [
    {
     "data": {
      "text/html": [
       "<div>\n",
       "<style scoped>\n",
       "    .dataframe tbody tr th:only-of-type {\n",
       "        vertical-align: middle;\n",
       "    }\n",
       "\n",
       "    .dataframe tbody tr th {\n",
       "        vertical-align: top;\n",
       "    }\n",
       "\n",
       "    .dataframe thead th {\n",
       "        text-align: right;\n",
       "    }\n",
       "</style>\n",
       "<table border=\"1\" class=\"dataframe\">\n",
       "  <thead>\n",
       "    <tr style=\"text-align: right;\">\n",
       "      <th></th>\n",
       "      <th>label</th>\n",
       "      <th>marker</th>\n",
       "      <th>fc</th>\n",
       "      <th>abs_delta_fc</th>\n",
       "      <th>pval</th>\n",
       "      <th>fwer_padj</th>\n",
       "    </tr>\n",
       "  </thead>\n",
       "  <tbody>\n",
       "    <tr>\n",
       "      <th>13</th>\n",
       "      <td>light_b_cells</td>\n",
       "      <td>int_min</td>\n",
       "      <td>0.779572</td>\n",
       "      <td>0.220428</td>\n",
       "      <td>2.850093e-143</td>\n",
       "      <td>5.215669e-141</td>\n",
       "    </tr>\n",
       "    <tr>\n",
       "      <th>20</th>\n",
       "      <td>t_cells</td>\n",
       "      <td>homogeneity_1</td>\n",
       "      <td>0.895240</td>\n",
       "      <td>0.104760</td>\n",
       "      <td>8.175978e-126</td>\n",
       "      <td>1.496204e-123</td>\n",
       "    </tr>\n",
       "    <tr>\n",
       "      <th>16</th>\n",
       "      <td>t_cells</td>\n",
       "      <td>entropy</td>\n",
       "      <td>1.054801</td>\n",
       "      <td>0.054801</td>\n",
       "      <td>9.234921e-109</td>\n",
       "      <td>1.689991e-106</td>\n",
       "    </tr>\n",
       "    <tr>\n",
       "      <th>23</th>\n",
       "      <td>t_cells</td>\n",
       "      <td>weighted_moments_normalized-0-2</td>\n",
       "      <td>0.779103</td>\n",
       "      <td>0.220897</td>\n",
       "      <td>8.905806e-99</td>\n",
       "      <td>1.629762e-96</td>\n",
       "    </tr>\n",
       "    <tr>\n",
       "      <th>29</th>\n",
       "      <td>t_cells</td>\n",
       "      <td>weighted_moments_normalized-2-2</td>\n",
       "      <td>0.598489</td>\n",
       "      <td>0.401511</td>\n",
       "      <td>2.400470e-93</td>\n",
       "      <td>4.392860e-91</td>\n",
       "    </tr>\n",
       "    <tr>\n",
       "      <th>23</th>\n",
       "      <td>light_b_cells</td>\n",
       "      <td>weighted_moments_normalized-0-2</td>\n",
       "      <td>1.309947</td>\n",
       "      <td>0.309947</td>\n",
       "      <td>8.780343e-85</td>\n",
       "      <td>1.606803e-82</td>\n",
       "    </tr>\n",
       "    <tr>\n",
       "      <th>27</th>\n",
       "      <td>light_b_cells</td>\n",
       "      <td>weighted_moments_normalized-2-0</td>\n",
       "      <td>1.301818</td>\n",
       "      <td>0.301818</td>\n",
       "      <td>1.246848e-83</td>\n",
       "      <td>2.281732e-81</td>\n",
       "    </tr>\n",
       "    <tr>\n",
       "      <th>27</th>\n",
       "      <td>t_cells</td>\n",
       "      <td>weighted_moments_normalized-2-0</td>\n",
       "      <td>0.809549</td>\n",
       "      <td>0.190451</td>\n",
       "      <td>7.124489e-78</td>\n",
       "      <td>1.303781e-75</td>\n",
       "    </tr>\n",
       "    <tr>\n",
       "      <th>29</th>\n",
       "      <td>light_b_cells</td>\n",
       "      <td>weighted_moments_normalized-2-2</td>\n",
       "      <td>1.821228</td>\n",
       "      <td>0.821228</td>\n",
       "      <td>7.178891e-72</td>\n",
       "      <td>1.313737e-69</td>\n",
       "    </tr>\n",
       "    <tr>\n",
       "      <th>16</th>\n",
       "      <td>light_b_cells</td>\n",
       "      <td>entropy</td>\n",
       "      <td>0.956321</td>\n",
       "      <td>0.043679</td>\n",
       "      <td>1.413979e-69</td>\n",
       "      <td>2.587582e-67</td>\n",
       "    </tr>\n",
       "    <tr>\n",
       "      <th>13</th>\n",
       "      <td>t_cells</td>\n",
       "      <td>int_min</td>\n",
       "      <td>1.177541</td>\n",
       "      <td>0.177541</td>\n",
       "      <td>3.329195e-66</td>\n",
       "      <td>6.092427e-64</td>\n",
       "    </tr>\n",
       "    <tr>\n",
       "      <th>20</th>\n",
       "      <td>light_b_cells</td>\n",
       "      <td>homogeneity_1</td>\n",
       "      <td>1.083161</td>\n",
       "      <td>0.083161</td>\n",
       "      <td>1.830051e-61</td>\n",
       "      <td>3.348994e-59</td>\n",
       "    </tr>\n",
       "    <tr>\n",
       "      <th>42</th>\n",
       "      <td>t_cells</td>\n",
       "      <td>weighted_moments_hu-1</td>\n",
       "      <td>0.498417</td>\n",
       "      <td>0.501583</td>\n",
       "      <td>5.233964e-46</td>\n",
       "      <td>9.578155e-44</td>\n",
       "    </tr>\n",
       "    <tr>\n",
       "      <th>42</th>\n",
       "      <td>light_b_cells</td>\n",
       "      <td>weighted_moments_hu-1</td>\n",
       "      <td>2.057626</td>\n",
       "      <td>1.057626</td>\n",
       "      <td>2.796081e-36</td>\n",
       "      <td>5.116829e-34</td>\n",
       "    </tr>\n",
       "    <tr>\n",
       "      <th>4</th>\n",
       "      <td>t_cells</td>\n",
       "      <td>shape_factor</td>\n",
       "      <td>0.971467</td>\n",
       "      <td>0.028533</td>\n",
       "      <td>2.849075e-27</td>\n",
       "      <td>5.213807e-25</td>\n",
       "    </tr>\n",
       "    <tr>\n",
       "      <th>5</th>\n",
       "      <td>t_cells</td>\n",
       "      <td>area_bbarea</td>\n",
       "      <td>1.023061</td>\n",
       "      <td>0.023061</td>\n",
       "      <td>9.772234e-27</td>\n",
       "      <td>1.788319e-24</td>\n",
       "    </tr>\n",
       "    <tr>\n",
       "      <th>21</th>\n",
       "      <td>t_cells</td>\n",
       "      <td>homogeneity_20</td>\n",
       "      <td>0.824899</td>\n",
       "      <td>0.175101</td>\n",
       "      <td>2.020113e-26</td>\n",
       "      <td>3.696806e-24</td>\n",
       "    </tr>\n",
       "    <tr>\n",
       "      <th>2</th>\n",
       "      <td>t_cells</td>\n",
       "      <td>smallest_largest_calliper</td>\n",
       "      <td>1.044830</td>\n",
       "      <td>0.044830</td>\n",
       "      <td>8.422244e-26</td>\n",
       "      <td>1.541271e-23</td>\n",
       "    </tr>\n",
       "    <tr>\n",
       "      <th>1</th>\n",
       "      <td>t_cells</td>\n",
       "      <td>max_calliper</td>\n",
       "      <td>0.935650</td>\n",
       "      <td>0.064350</td>\n",
       "      <td>3.984451e-24</td>\n",
       "      <td>7.291545e-22</td>\n",
       "    </tr>\n",
       "    <tr>\n",
       "      <th>43</th>\n",
       "      <td>t_cells</td>\n",
       "      <td>weighted_moments_hu-2</td>\n",
       "      <td>0.446592</td>\n",
       "      <td>0.553408</td>\n",
       "      <td>1.438572e-21</td>\n",
       "      <td>2.632586e-19</td>\n",
       "    </tr>\n",
       "  </tbody>\n",
       "</table>\n",
       "</div>"
      ],
      "text/plain": [
       "            label                           marker        fc  abs_delta_fc  \\\n",
       "13  light_b_cells                          int_min  0.779572      0.220428   \n",
       "20        t_cells                    homogeneity_1  0.895240      0.104760   \n",
       "16        t_cells                          entropy  1.054801      0.054801   \n",
       "23        t_cells  weighted_moments_normalized-0-2  0.779103      0.220897   \n",
       "29        t_cells  weighted_moments_normalized-2-2  0.598489      0.401511   \n",
       "23  light_b_cells  weighted_moments_normalized-0-2  1.309947      0.309947   \n",
       "27  light_b_cells  weighted_moments_normalized-2-0  1.301818      0.301818   \n",
       "27        t_cells  weighted_moments_normalized-2-0  0.809549      0.190451   \n",
       "29  light_b_cells  weighted_moments_normalized-2-2  1.821228      0.821228   \n",
       "16  light_b_cells                          entropy  0.956321      0.043679   \n",
       "13        t_cells                          int_min  1.177541      0.177541   \n",
       "20  light_b_cells                    homogeneity_1  1.083161      0.083161   \n",
       "42        t_cells            weighted_moments_hu-1  0.498417      0.501583   \n",
       "42  light_b_cells            weighted_moments_hu-1  2.057626      1.057626   \n",
       "4         t_cells                     shape_factor  0.971467      0.028533   \n",
       "5         t_cells                      area_bbarea  1.023061      0.023061   \n",
       "21        t_cells                   homogeneity_20  0.824899      0.175101   \n",
       "2         t_cells        smallest_largest_calliper  1.044830      0.044830   \n",
       "1         t_cells                     max_calliper  0.935650      0.064350   \n",
       "43        t_cells            weighted_moments_hu-2  0.446592      0.553408   \n",
       "\n",
       "             pval      fwer_padj  \n",
       "13  2.850093e-143  5.215669e-141  \n",
       "20  8.175978e-126  1.496204e-123  \n",
       "16  9.234921e-109  1.689991e-106  \n",
       "23   8.905806e-99   1.629762e-96  \n",
       "29   2.400470e-93   4.392860e-91  \n",
       "23   8.780343e-85   1.606803e-82  \n",
       "27   1.246848e-83   2.281732e-81  \n",
       "27   7.124489e-78   1.303781e-75  \n",
       "29   7.178891e-72   1.313737e-69  \n",
       "16   1.413979e-69   2.587582e-67  \n",
       "13   3.329195e-66   6.092427e-64  \n",
       "20   1.830051e-61   3.348994e-59  \n",
       "42   5.233964e-46   9.578155e-44  \n",
       "42   2.796081e-36   5.116829e-34  \n",
       "4    2.849075e-27   5.213807e-25  \n",
       "5    9.772234e-27   1.788319e-24  \n",
       "21   2.020113e-26   3.696806e-24  \n",
       "2    8.422244e-26   1.541271e-23  \n",
       "1    3.984451e-24   7.291545e-22  \n",
       "43   1.438572e-21   2.632586e-19  "
      ]
     },
     "execution_count": 21,
     "metadata": {},
     "output_type": "execute_result"
    }
   ],
   "source": [
    "marker_screen_results.sort_values(\"fwer_padj\").head(20)"
   ]
  },
  {
   "cell_type": "code",
   "execution_count": 22,
   "metadata": {},
   "outputs": [],
   "source": [
    "# Save the model\n",
    "fitted_rfc = rfc.fit(X=filtered_nuc_feat, y=sample_labels)\n",
    "cPickle.dump(fitted_rfc,open( data_dir + 'rf_classifier', 'wb'))"
   ]
  },
  {
   "cell_type": "code",
   "execution_count": 23,
   "metadata": {},
   "outputs": [],
   "source": [
    "#loaded_model = cPickle.load(open(data_dir + 'rf_classifier', 'rb'))\n",
    "#pred_probs = pd.DataFrame(loaded_model.predict_proba(X=filtered_nuc_feat),columns=list(rfc.classes_),index=filtered_nuc_feat.index,)\n",
    "#pred = pd.DataFrame(fitted_rfc.predict(X=filtered_nuc_feat),columns = [\"predicted_class\"],index=filtered_nuc_feat.index)\n"
   ]
  }
 ],
 "metadata": {
  "kernelspec": {
   "display_name": "gc_ifom",
   "language": "python",
   "name": "gc_ifom"
  },
  "language_info": {
   "codemirror_mode": {
    "name": "ipython",
    "version": 3
   },
   "file_extension": ".py",
   "mimetype": "text/x-python",
   "name": "python",
   "nbconvert_exporter": "python",
   "pygments_lexer": "ipython3",
   "version": "3.8.3"
  }
 },
 "nbformat": 4,
 "nbformat_minor": 4
}
