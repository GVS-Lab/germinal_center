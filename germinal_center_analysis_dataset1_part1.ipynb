{
 "cells": [
  {
   "cell_type": "markdown",
   "metadata": {},
   "source": [
    "# Germinal center: chromatin based cell type detection: \n",
    "---\n",
    "## Part1: Dataset generation\n",
    "\n",
    "\n",
    "Data (from Claudio, IFOM): \n",
    "10 images depicting germinal centers (annotated by hand) stained for Dapi, CD3 and AICDA. \n"
   ]
  },
  {
   "cell_type": "markdown",
   "metadata": {},
   "source": [
    "### Setting up the environment \n",
    "\n",
    "Read in the libraries and the set up the paths"
   ]
  },
  {
   "cell_type": "code",
   "execution_count": 1,
   "metadata": {},
   "outputs": [],
   "source": [
    "# import libraries\n",
    "import sys\n",
    "sys.path.append(\"..\")\n",
    "\n",
    "from pathlib import Path\n",
    "from glob import glob\n",
    "import pandas as pd\n",
    "import os\n",
    "from tqdm.notebook import tqdm\n",
    "\n",
    "from src.batch.nuclear_segmentation import segment_objects_stardist2d\n",
    "from src.batch.extract_features import extract_nmco_feats_batch, measure_intensity_batch,extract_spatial_coordinates_batch\n",
    "from src.batch.cell_segmentation import cell_seg_dilation_batch\n",
    "from src.utils.preprocess_images import extract_channel_save_image\n",
    "from src.utils.cell_type_detection import assign_cell_status"
   ]
  },
  {
   "cell_type": "code",
   "execution_count": 2,
   "metadata": {},
   "outputs": [],
   "source": [
    "path_to_raw_images = '/media/pathy_s/54fe7289-2a61-4f3a-ac84-eeea3c0d1d2f/ifom_germinal_centers/dataset_1/' \n",
    "path_to_DNA_image_raw= path_to_raw_images +'DAPI/'\n",
    "path_to_CD3_image_raw= path_to_raw_images +'CD3/'\n",
    "path_to_AICDA_image_raw= path_to_raw_images +'AICDA/'\n",
    "path_to_gernminal_center = path_to_raw_images +'germinal_center_anno/'\n",
    "\n",
    "path_to_DNA_image = path_to_raw_images +'DAPI_c/'\n",
    "path_to_CD3_image = path_to_raw_images +'CD3_c/'\n",
    "path_to_AICDA_image = path_to_raw_images +'AICDA_c/'\n",
    "\n",
    "path_to_output_segmented_nuclei= path_to_raw_images +\"segmented_nucleus/\"\n",
    "path_to_output_ij_nuclei_rois= path_to_raw_images + \"segmented_nuc_ij_roi/\"\n",
    "path_to_output_nuclear_features= path_to_raw_images + \"nmco_feat/\"\n",
    "path_to_output_segmented_cells= path_to_raw_images +\"segmented_cells/\"\n",
    "\n",
    "path_to_output_cellular_AICDA_levels = path_to_raw_images + \"aicda_level/\"\n",
    "path_to_output_cellular_cd3_levels = path_to_raw_images + \"cd3_level/\"\n",
    "path_to_output_germinal_center_loc = path_to_raw_images + \"position_wrt_germinal_center/\"\n",
    "\n",
    "path_to_output_spatial_cordiates = path_to_raw_images + \"spatial_cordiates/\"\n",
    "\n",
    "path_to_output_consolidated_dataset = path_to_raw_images + \"consolidated_data/\""
   ]
  },
  {
   "cell_type": "markdown",
   "metadata": {},
   "source": [
    "### Compute features\n",
    "\n",
    "We process the channels, segment nuclei using a pretrained stardist model, extract nmco features and segment cells by expanding nuclear boundary and then measure cellular levels of AICDA, CD3 and location within the germinal center. "
   ]
  },
  {
   "cell_type": "code",
   "execution_count": 3,
   "metadata": {},
   "outputs": [
    {
     "name": "stdout",
     "output_type": "stream",
     "text": [
      "Preprocessing image to make single channel tiff images......\n",
      "Nuclear segmentation........\n",
      "Found model '2D_versatile_fluo' for 'StarDist2D'.\n",
      "Loading network weights from 'weights_best.h5'.\n",
      "Loading thresholds from 'thresholds.json'.\n",
      "Using default values: prob_thresh=0.479071, nms_thresh=0.3.\n"
     ]
    },
    {
     "name": "stderr",
     "output_type": "stream",
     "text": [
      "100%|██████████| 42/42 [00:06<00:00,  6.14it/s]\n",
      "100%|██████████| 30/30 [00:04<00:00,  7.09it/s]\n",
      "100%|██████████| 16/16 [00:02<00:00,  6.85it/s]\n",
      "100%|██████████| 20/20 [00:02<00:00,  7.08it/s]\n",
      "100%|██████████| 36/36 [00:05<00:00,  6.57it/s]\n",
      "100%|██████████| 25/25 [00:03<00:00,  6.54it/s]\n",
      "100%|██████████| 15/15 [00:02<00:00,  6.61it/s]\n",
      "100%|██████████| 20/20 [00:03<00:00,  6.54it/s]\n",
      "100%|██████████| 42/42 [00:06<00:00,  6.64it/s]\n",
      "100%|██████████| 30/30 [00:04<00:00,  6.34it/s]\n"
     ]
    },
    {
     "name": "stdout",
     "output_type": "stream",
     "text": [
      "Nuclear feature extraction........\n"
     ]
    },
    {
     "name": "stderr",
     "output_type": "stream",
     "text": [
      "100%|██████████| 9778/9778 [09:47<00:00, 16.63it/s]\n",
      "100%|██████████| 5612/5612 [05:20<00:00, 17.51it/s]\n",
      "100%|██████████| 3330/3330 [03:08<00:00, 17.68it/s]\n",
      "100%|██████████| 3754/3754 [03:32<00:00, 17.65it/s]\n",
      "100%|██████████| 7596/7596 [07:38<00:00, 16.57it/s]\n",
      "100%|██████████| 4914/4914 [04:33<00:00, 17.94it/s]\n",
      "100%|██████████| 3432/3432 [03:53<00:00, 14.72it/s]\n",
      "100%|██████████| 3992/3992 [04:37<00:00, 14.38it/s]\n",
      "100%|██████████| 8091/8091 [07:50<00:00, 17.18it/s]\n",
      "100%|██████████| 6680/6680 [06:16<00:00, 17.73it/s]\n",
      "  0%|          | 0/10 [00:00<?, ?it/s]"
     ]
    },
    {
     "name": "stdout",
     "output_type": "stream",
     "text": [
      "Nuclear boundary expansion to segment cells.......\n"
     ]
    },
    {
     "name": "stderr",
     "output_type": "stream",
     "text": [
      "100%|██████████| 10/10 [00:09<00:00,  1.02it/s]\n"
     ]
    }
   ],
   "source": [
    "# process the image rgb to single channel tiff\n",
    "print('Preprocessing image to make single channel tiff images......')\n",
    "extract_channel_save_image(path_to_DNA_image_raw,path_to_DNA_image, 1)\n",
    "extract_channel_save_image(path_to_CD3_image_raw,path_to_CD3_image, 2)\n",
    "extract_channel_save_image(path_to_AICDA_image_raw,path_to_AICDA_image, 3)\n",
    "\n",
    "# perfrom nuclear segmentation \n",
    "print('Nuclear segmentation........')\n",
    "segment_objects_stardist2d(image_dir = path_to_DNA_image,\n",
    "                               output_dir_labels = path_to_output_segmented_nuclei,\n",
    "                               output_dir_ijroi = path_to_output_ij_nuclei_rois,\n",
    "                               use_pretrained = True)\n",
    "\n",
    "# compute nuclear features\n",
    "print('Nuclear feature extraction........')\n",
    "nuc_features = extract_nmco_feats_batch(raw_image_path = path_to_DNA_image, \n",
    "                         labelled_image_path = path_to_output_segmented_nuclei,\n",
    "                         output_dir  = path_to_output_nuclear_features)\n",
    "\n",
    "# segment cells by boundary expansion\n",
    "print('Nuclear boundary expansion to segment cells.......')\n",
    "cell_seg_dilation_batch(path_to_output_segmented_nuclei, path_to_output_segmented_cells)\n"
   ]
  },
  {
   "cell_type": "code",
   "execution_count": 4,
   "metadata": {},
   "outputs": [
    {
     "name": "stderr",
     "output_type": "stream",
     "text": [
      "\r",
      "  0%|          | 0/10 [00:00<?, ?it/s]"
     ]
    },
    {
     "name": "stdout",
     "output_type": "stream",
     "text": [
      "computing cellular levels of proteins.....\n"
     ]
    },
    {
     "name": "stderr",
     "output_type": "stream",
     "text": [
      "100%|██████████| 10/10 [02:02<00:00, 12.30s/it]\n",
      "100%|██████████| 10/10 [02:02<00:00, 12.29s/it]\n",
      "100%|██████████| 10/10 [02:03<00:00, 12.34s/it]\n"
     ]
    }
   ],
   "source": [
    "#measure cellular levels of proteins\n",
    "print('computing cellular levels of proteins.....')\n",
    "\n",
    "cd3_levels = measure_intensity_batch(labelled_image_path = path_to_output_segmented_cells, \n",
    "                        protein_image_path = path_to_CD3_image, \n",
    "                        output_dir = path_to_output_cellular_cd3_levels)\n",
    "\n",
    "aicda_levels = measure_intensity_batch(labelled_image_path = path_to_output_segmented_cells, \n",
    "                        protein_image_path = path_to_AICDA_image, \n",
    "                        output_dir = path_to_output_cellular_AICDA_levels)\n",
    "gc_levels = measure_intensity_batch(labelled_image_path = path_to_output_segmented_cells, \n",
    "                        protein_image_path = path_to_gernminal_center,\n",
    "                        output_dir = path_to_output_germinal_center_loc)"
   ]
  },
  {
   "cell_type": "code",
   "execution_count": 3,
   "metadata": {},
   "outputs": [],
   "source": [
    "# measure spatial nuclear location\n",
    "spatial_coordiates = extract_spatial_coordinates_batch(labelled_image_path = path_to_output_segmented_nuclei, \n",
    "                        output_dir = path_to_output_spatial_cordiates)\n"
   ]
  },
  {
   "cell_type": "markdown",
   "metadata": {},
   "source": [
    "### Save output"
   ]
  },
  {
   "cell_type": "code",
   "execution_count": 5,
   "metadata": {},
   "outputs": [],
   "source": [
    "# setup unique nuclear ids\n",
    "nuc_features['nuc_id'] = nuc_features['image'].astype(str) + '_'+ nuc_features['label'].astype(str)\n",
    "aicda_levels['nuc_id'] = aicda_levels['image'].astype(str) + '_'+ aicda_levels['label'].astype(str)\n",
    "cd3_levels['nuc_id'] = cd3_levels['image'].astype(str) + '_'+ cd3_levels['label'].astype(str)\n",
    "gc_levels['nuc_id'] = gc_levels['image'].astype(str) + '_'+ gc_levels['label'].astype(str)\n",
    "\n",
    "# save the data aquired\n",
    "Path(path_to_output_consolidated_dataset).mkdir(parents=True, exist_ok=True)\n",
    "\n",
    "nuc_features.to_csv(path_to_output_consolidated_dataset+\"/\" +\"nuc_features.csv\")\n",
    "aicda_levels.to_csv(path_to_output_consolidated_dataset+\"/\" +\"aicda_levels.csv\")\n",
    "cd3_levels.to_csv(path_to_output_consolidated_dataset+\"/\" +\"cd3_levels.csv\")\n",
    "gc_levels.to_csv(path_to_output_consolidated_dataset+\"/\" +\"gc_levels.csv\")\n",
    "spatial_coordiates.to_csv(path_to_output_consolidated_dataset+\"/\" +\"spatial_coordiates.csv\")\n"
   ]
  }
 ],
 "metadata": {
  "kernelspec": {
   "display_name": "gc_ifom",
   "language": "python",
   "name": "gc_ifom"
  },
  "language_info": {
   "codemirror_mode": {
    "name": "ipython",
    "version": 3
   },
   "file_extension": ".py",
   "mimetype": "text/x-python",
   "name": "python",
   "nbconvert_exporter": "python",
   "pygments_lexer": "ipython3",
   "version": "3.8.3"
  }
 },
 "nbformat": 4,
 "nbformat_minor": 4
}
